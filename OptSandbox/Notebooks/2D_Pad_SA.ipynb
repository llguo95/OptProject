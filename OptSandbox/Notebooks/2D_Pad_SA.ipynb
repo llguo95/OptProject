{
 "cells": [
  {
   "cell_type": "markdown",
   "metadata": {},
   "source": [
    "# 2D Pad simulation sensitivity analysis\n",
    "\n",
    "This Jupyter notebook contains the sensitivity analysis procedure used on the data Excel sheet which Huawei provided at the start of the collaboration. This analysis is done using methods provided by the [SALib](https://salib.readthedocs.io/en/latest/) library. Please refer to section 2.1.4 of the progress report for full context.\n",
    "\n",
    "Let us first import the necessary packages and define some control parameters."
   ]
  },
  {
   "cell_type": "code",
   "execution_count": 1,
   "metadata": {},
   "outputs": [],
   "source": [
    "import numpy as np\n",
    "import pandas as pd\n",
    "from sklearn.model_selection import train_test_split\n",
    "import matplotlib.pyplot as plt\n",
    "import GPy \n",
    "from SALib.sample import saltelli\n",
    "from SALib.analyze import sobol\n",
    "\n",
    "## Parameters for control\n",
    "seed = 1988 # set a random seed to replicate results\n",
    "testset_ratio = 0.25 # ratio of test set points from the dataset\n",
    "##"
   ]
  },
  {
   "cell_type": "markdown",
   "metadata": {},
   "source": [
    "Next, all necessary data for performing the sensitivity analysis are initialized. First, the full data set with modified parameters is introduced. Then, the features and target are identified and extracted. The data is then split to train the regressor (see next cell)."
   ]
  },
  {
   "cell_type": "code",
   "execution_count": 2,
   "metadata": {},
   "outputs": [],
   "source": [
    "data_full = pd.read_csv('total_data_csv_parameter_modified.csv') # Load the full data\n",
    "np.random.seed(seed)\n",
    "\n",
    "feature_names = data_full.columns.values[1:8] # Names of features\n",
    "X_data = data_full.iloc[:, 1:8 ].values # features data\n",
    "\n",
    "target_name = data_full.columns.values[0] # Name of target\n",
    "y_data = data_full.iloc[:, 0:1].values # target data\n",
    "y_data = y_data.reshape(-1,1) # reshaped to have standard format for training\n",
    "\n",
    "X_train, X_test, y_train, y_test = train_test_split(X_data,\n",
    "                                    y_data, test_size=testset_ratio,\n",
    "                                    random_state=seed)\n",
    "\n",
    "X_train_scaled=X_train\n",
    "X_test_scaled =X_test\n",
    "X_data_scaled =X_data"
   ]
  },
  {
   "cell_type": "markdown",
   "metadata": {},
   "source": [
    "Gaussian process regression is used to generate a surrogate model for the response surface. Here, heteroscedasticity is assumed, which in simple terms means that some variables will experience varying uncertainty across the surrogate."
   ]
  },
  {
   "cell_type": "code",
   "execution_count": 3,
   "metadata": {},
   "outputs": [
    {
     "data": {
      "text/plain": [
       "<paramz.optimization.optimization.opt_lbfgsb at 0x1caf5905e08>"
      ]
     },
     "execution_count": 3,
     "metadata": {},
     "output_type": "execute_result"
    }
   ],
   "source": [
    "kern = GPy.kern.RBF(input_dim=7, variance=1.0, lengthscale=10.0, ARD=False)\n",
    "\n",
    "gpy_het_model = GPy.models.GPHeteroscedasticRegression(X_train_scaled,y_train,kern)\n",
    "gpy_het_model.het_Gauss.variance = .005**2 # intial value (to be optimized)\n",
    "gpy_het_model.optimize()"
   ]
  },
  {
   "cell_type": "markdown",
   "metadata": {},
   "source": [
    "The next step consists of defining a dictionary which contains the problem to be analysed. This format will be used in the SALib commands."
   ]
  },
  {
   "cell_type": "code",
   "execution_count": 4,
   "metadata": {},
   "outputs": [],
   "source": [
    "problem = {\n",
    "    'num_vars': len(feature_names),\n",
    "    'names': feature_names,\n",
    "    'bounds': [[0.8,1.2 ],\n",
    "               [57.0,67.18],\n",
    "               [0.0,1.0],\n",
    "               [50.0,200.0],\n",
    "               [30.0,38.0],\n",
    "               [33.0,42.0],\n",
    "               [2.0,3.0]]\n",
    "}"
   ]
  },
  {
   "cell_type": "markdown",
   "metadata": {},
   "source": [
    "The actual analysis step is executed with the Saltelli scheme, which makes use of Sobol sequence sampling to reduce the error rates of the calculations. The commands are as follows:"
   ]
  },
  {
   "cell_type": "code",
   "execution_count": 5,
   "metadata": {},
   "outputs": [
    {
     "name": "stdout",
     "output_type": "stream",
     "text": [
      "Parameter S1 S1_conf ST ST_conf\n",
      "(h0-h1)/rd 0.000529 0.001120 0.003479 0.000094\n",
      "h0+h1 0.174210 0.008921 0.218745 0.006552\n",
      "h2 0.080805 0.005207 0.083862 0.002020\n",
      "rs 0.143619 0.012744 0.388146 0.009522\n",
      "w0 0.089099 0.010628 0.263953 0.007121\n",
      "w1 0.143899 0.008170 0.190010 0.005739\n",
      "rd 0.110529 0.006931 0.120614 0.003131\n",
      "\n",
      "Parameter_1 Parameter_2 S2 S2_conf\n",
      "(h0-h1)/rd h0+h1 -0.000186 0.001595\n",
      "(h0-h1)/rd h2 -0.000216 0.001712\n",
      "(h0-h1)/rd rs 0.002668 0.001722\n",
      "(h0-h1)/rd w0 -0.000032 0.001738\n",
      "(h0-h1)/rd w1 -0.000065 0.001738\n",
      "(h0-h1)/rd rd 0.000050 0.001628\n",
      "h0+h1 h2 -0.002754 0.012154\n",
      "h0+h1 rs 0.031255 0.014429\n",
      "h0+h1 w0 0.002173 0.012628\n",
      "h0+h1 w1 0.003451 0.012017\n",
      "h0+h1 rd -0.002158 0.013007\n",
      "h2 rs 0.003103 0.008336\n",
      "h2 w0 -0.000347 0.007373\n",
      "h2 w1 0.000109 0.008508\n",
      "h2 rd -0.000135 0.007743\n",
      "rs w0 0.157791 0.017851\n",
      "rs w1 0.030539 0.016080\n",
      "rs rd 0.006266 0.015931\n",
      "w0 w1 0.006477 0.015345\n",
      "w0 rd -0.002198 0.015217\n",
      "w1 rd 0.002721 0.010793\n"
     ]
    }
   ],
   "source": [
    "param_values = saltelli.sample(problem, 20000)\n",
    "Y_pred, temp_trash= gpy_het_model.predict_noiseless(param_values)\n",
    "Y_pred = Y_pred.reshape(-1,)\n",
    "\n",
    "Si = sobol.analyze(problem, Y_pred, print_to_console=True)"
   ]
  },
  {
   "cell_type": "markdown",
   "metadata": {},
   "source": [
    "Once the sensitivity analysis has been finished, the final task to perform is to generate the visualizations, and display the heteroscedastic GPR surrogate model. "
   ]
  },
  {
   "cell_type": "code",
   "execution_count": 6,
   "metadata": {},
   "outputs": [
    {
     "data": {
      "image/png": "[encoded data removed]",
      "text/plain": [
       "<Figure size 432x288 with 1 Axes>"
      ]
     },
     "metadata": {
      "needs_background": "light"
     },
     "output_type": "display_data"
    },
    {
     "name": "stdout",
     "output_type": "stream",
     "text": [
      "\n",
      "Name : gp\n",
      "Objective : -344.3947766057223\n",
      "Number of Parameters : 152\n",
      "Number of Optimization Parameters : 152\n",
      "Updates : True\n",
      "Parameters:\n",
      "  \u001b[1mgp.               \u001b[0;0m  |               value  |  constraints  |  priors\n",
      "  \u001b[1mrbf.variance      \u001b[0;0m  |  0.5437370998651334  |      +ve      |        \n",
      "  \u001b[1mrbf.lengthscale   \u001b[0;0m  |   40.12410468535615  |      +ve      |        \n",
      "  \u001b[1mhet_Gauss.variance\u001b[0;0m  |            (150, 1)  |      +ve      |        \n"
     ]
    }
   ],
   "source": [
    "fig1 = plt.figure()\n",
    "\n",
    "x_pos = np.arange(len(feature_names))\n",
    "width = 0.35\n",
    "plt.barh(x_pos,Si['ST'],width, color='royalblue', xerr=Si['ST_conf'], label='Sensitivity GAP  Total', capsize=8)\n",
    "plt.barh(problem['names'],Si['S1'],width, color='skyblue', xerr=Si['S1_conf'], label='Sensitivity GAP  First',capsize=8)\n",
    "\n",
    "plt.xticks(rotation=45)\n",
    "#\n",
    "plt.xlabel('Sensitivity score')\n",
    "plt.ylabel('Design parameter')\n",
    "\n",
    "plt.yticks(x_pos + width / 2, feature_names)\n",
    "plt.legend(loc='best')\n",
    "plt.show()\n",
    "\n",
    "print(gpy_het_model)"
   ]
  }
 ],
 "metadata": {
  "kernelspec": {
   "display_name": "Python 3",
   "language": "python",
   "name": "python3"
  },
  "language_info": {
   "codemirror_mode": {
    "name": "ipython",
    "version": 3
   },
   "file_extension": ".py",
   "mimetype": "text/x-python",
   "name": "python",
   "nbconvert_exporter": "python",
   "pygments_lexer": "ipython3",
   "version": "3.7.9"
  }
 },
 "nbformat": 4,
 "nbformat_minor": 4
}
