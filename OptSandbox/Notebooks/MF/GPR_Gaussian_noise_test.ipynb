{
 "cells": [
  {
   "cell_type": "markdown",
   "metadata": {},
   "source": [
    "# Hyperparameter Optimization of Gaussian Processes for Bayesian Optimization\n",
    "\n",
    "Throughout this notebook, we make the following assumptions:\n",
    "- We use the RBF kernel for Gaussian process regression with two hyperparameters (variance and length scale).\n",
    "To be precise,\n",
    "$$k_{\\text{RBF}}(x,x';\\{\\sigma, \\ell\\})=k_{\\text{RBF}}(r;\\{\\sigma, \\ell\\})=\\sigma^2\\exp\\left(-\\frac12r^2(x,x';\\ell)\\right),$$\n",
    "where $r$ is the length-scaled stationary parameter\n",
    "$$r(x,x';\\ell)=\\frac{|x-x'|}{\\ell}.$$\n",
    "\n",
    "- We use the UCB acquisition function with deviation parameter $\\kappa=2$ (95% confidence bound)\n",
    "$$\\text{acq}_{\\text{UCB}}(x)=\\mu(x)+\\kappa\\cdot\\sigma(x).$$\n",
    "\n",
    "- The considered test function is\n",
    "$$$$"
   ]
  },
  {
   "cell_type": "code",
   "execution_count": null,
   "metadata": {},
   "outputs": [],
   "source": []
  }
 ],
 "metadata": {
  "kernelspec": {
   "display_name": "Python 3",
   "language": "python",
   "name": "python3"
  },
  "language_info": {
   "codemirror_mode": {
    "name": "ipython",
    "version": 3
   },
   "file_extension": ".py",
   "mimetype": "text/x-python",
   "name": "python",
   "nbconvert_exporter": "python",
   "pygments_lexer": "ipython3",
   "version": "3.7.9"
  }
 },
 "nbformat": 4,
 "nbformat_minor": 4
}
