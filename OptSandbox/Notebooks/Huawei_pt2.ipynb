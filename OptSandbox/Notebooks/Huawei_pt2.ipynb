{
 "cells": [
  {
   "cell_type": "markdown",
   "metadata": {},
   "source": [
    "# 2. Two other common optimization algorithms\n",
    "\n",
    "How does Bayesian optimization perform in comparison with other optimizing schemes? In this section, two relatively common algorithms from the [`scipy.optimize`](https://docs.scipy.org/doc/scipy/reference/optimize.html) package are used to tackle the same problem.\n",
    "\n",
    "We start by importing the relevant packages:"
   ]
  },
  {
   "cell_type": "code",
   "execution_count": 1,
   "metadata": {},
   "outputs": [],
   "source": [
    "import numpy as np\n",
    "import scipy.optimize\n",
    "\n",
    "np.random.seed(123)"
   ]
  },
  {
   "cell_type": "markdown",
   "metadata": {},
   "source": [
    "Subsequently, the data input scaler is calibrated."
   ]
  },
  {
   "cell_type": "code",
   "execution_count": 2,
   "metadata": {},
   "outputs": [
    {
     "data": {
      "text/plain": [
       "StandardScaler()"
      ]
     },
     "execution_count": 2,
     "metadata": {},
     "output_type": "execute_result"
    }
   ],
   "source": [
    "from sklearn.preprocessing import StandardScaler\n",
    "scaler_bds = [[30., 50.], [34.18, 50.], [30., 200.], [34.18, 200.]]\n",
    "scaler = StandardScaler()\n",
    "scaler.fit(scaler_bds)"
   ]
  },
  {
   "cell_type": "markdown",
   "metadata": {},
   "source": [
    "Then, the objective function is defined. Note that we have to include the back-transformation to the original design domain inside of the function, unlike when BO was used."
   ]
  },
  {
   "cell_type": "code",
   "execution_count": 3,
   "metadata": {},
   "outputs": [],
   "source": [
    "def gap_size(x):\n",
    "    x = scaler.inverse_transform(x)\n",
    "    open(\"a_Design_var1.txt\", \"w\").write(str(x[0]))\n",
    "    open(\"a_Design_var2.txt\", \"w\").write(str(x[1]))\n",
    "    # os.system(\"abaqus cae noGUI=2D-get.py\")\n",
    "    # The above line triggers the actual simulation. It is advised to uncomment this line only when the resources are available to perform the optimization procedure in full.\n",
    "    return np.array(float(open(\"b_Objective_c_gap.txt\", \"r\").read().strip()))"
   ]
  },
  {
   "cell_type": "markdown",
   "metadata": {},
   "source": [
    "A callback function is defined in order to keep track of the iterations."
   ]
  },
  {
   "cell_type": "code",
   "execution_count": 4,
   "metadata": {},
   "outputs": [],
   "source": [
    "n_eval = 1\n",
    "def callbackfun(x):\n",
    "    global n_eval\n",
    "    np.savetxt('ProgDir_NM/in_iter_%d.csv' % n_eval, scaler.inverse_transform(x), delimiter=\",\")\n",
    "    # np.savetxt('ProgDir/out_iter_%d.csv' % n_eval, np.array([g(x)])) # In order to store the output per iteration, one more function evaluation is needed.\n",
    "    n_eval += 1"
   ]
  },
  {
   "cell_type": "markdown",
   "metadata": {},
   "source": [
    "### 2.1 Nelder-Mead simplex descent optimization\n",
    "\n",
    "The Nelder-Mead optimization process starts with an initial value. Note that the maximum number of function evaluations should be equal to the same number in the BO case for comparison purposes."
   ]
  },
  {
   "cell_type": "code",
   "execution_count": 5,
   "metadata": {},
   "outputs": [],
   "source": [
    "x0 = scaler.transform(np.array([[32., 150.]]))\n",
    "\n",
    "min_NM = scipy.optimize.minimize(gap_size, x0, method='Nelder-Mead', callback=callbackfun, options={'maxfev': 20, 'return_all': True})"
   ]
  },
  {
   "cell_type": "markdown",
   "metadata": {},
   "source": [
    "The optimization object is stored after the optimization process."
   ]
  },
  {
   "cell_type": "code",
   "execution_count": 6,
   "metadata": {},
   "outputs": [],
   "source": [
    "open('ProgDir_NM/min_obj.txt', \"w\").write(str(min_NM))\n",
    "np.savetxt('ProgDir_NM/in_history.csv', scaler.inverse_transform(min_NM['allvecs']), delimiter=',')"
   ]
  },
  {
   "cell_type": "markdown",
   "metadata": {},
   "source": [
    "### 2.2 L-BFGS-B optimization\n",
    "\n",
    "This optimization process is also a local optimization process with the additional benefit of being able to respect boundaries, unlike Nelder-Mead. We therefore supply the appropriate (scaled) bounds to perform this optimization. A similar callback function is constructed to keep the records, and the optimization object is saved accordingly after a similar number of iterations as with the previous applications."
   ]
  },
  {
   "cell_type": "code",
   "execution_count": 7,
   "metadata": {},
   "outputs": [
    {
     "data": {
      "text/plain": [
       "282"
      ]
     },
     "execution_count": 7,
     "metadata": {},
     "output_type": "execute_result"
    }
   ],
   "source": [
    "n_eval = 1\n",
    "def callbackfun_2(x):\n",
    "    global n_eval\n",
    "    np.savetxt('ProgDir_LBFGSB/in_iter_%d.csv' % n_eval, scaler.inverse_transform(x), delimiter=\",\")\n",
    "    # np.savetxt('ProgDir/out_iter_%d.csv' % n_eval, np.array([g(x)])) # In order to store the output per iteration, one more function evaluation is needed.\n",
    "    n_eval += 1\n",
    "\n",
    "x0 = scaler.transform(np.array([[32., 150.]]))\n",
    "bds = scipy.optimize.Bounds(scaler.transform(np.array([[30., 50.]])).flatten(), scaler.transform(np.array([[34.18, 200.]])).flatten())\n",
    "min_LBFGSB = scipy.optimize.minimize(gap_size, x0, method='L-BFGS-B', callback=callbackfun_2, bounds=bds, options={'maxfun': 20})\n",
    "\n",
    "open('ProgDir_LBFGSB/min_obj.txt', \"w\").write(str(min_LBFGSB))"
   ]
  },
  {
   "cell_type": "code",
   "execution_count": 8,
   "metadata": {},
   "outputs": [
    {
     "name": "stdout",
     "output_type": "stream",
     "text": [
      "All cells have been run.\n"
     ]
    }
   ],
   "source": [
    "print('All cells have been run.')"
   ]
  }
 ],
 "metadata": {
  "kernelspec": {
   "display_name": "Python 3",
   "language": "python",
   "name": "python3"
  },
  "language_info": {
   "codemirror_mode": {
    "name": "ipython",
    "version": 3
   },
   "file_extension": ".py",
   "mimetype": "text/x-python",
   "name": "python",
   "nbconvert_exporter": "python",
   "pygments_lexer": "ipython3",
   "version": "3.7.9"
  }
 },
 "nbformat": 4,
 "nbformat_minor": 4
}
