{
 "cells": [
  {
   "cell_type": "markdown",
   "metadata": {},
   "source": [
    "# Parallelization in Python\n",
    "\n",
    "Notes from a workshop organized by Dutch e-science centre .\n",
    "\n",
    "12-13.04.2021\n"
   ]
  },
  {
   "cell_type": "markdown",
   "metadata": {},
   "source": [
    "# Part 1: ways of speeding-up code\n",
    "Running example (will be used fo compare different parallelization solutions).\n",
    "\n",
    "Calculating Pi using Monte Carlo sampling and standard Python functions"
   ]
  },
  {
   "cell_type": "code",
   "execution_count": 2,
   "metadata": {},
   "outputs": [
    {
     "data": {
      "text/plain": [
       "3.14272"
      ]
     },
     "execution_count": 2,
     "metadata": {},
     "output_type": "execute_result"
    }
   ],
   "source": [
    "import random\n",
    "random.uniform(-1, 1)\n",
    "\n",
    "def calc_pi(N):\n",
    "    \"\"\"Computes the value of pi using N random samples \"\"\"\n",
    "    r = 1 # # set radius of circle\n",
    "    M = 0 # initialise M\n",
    "    for i in range(N):\n",
    "        \n",
    "        # n times well take a sample\n",
    "        x = random.uniform(-r,r)\n",
    "        y = random.uniform(-r,r)\n",
    "        \n",
    "        # circle; x^2 + y^2 = r^2\n",
    "        if x**2 + y**2 < r**2:\n",
    "            M += 1\n",
    "        \n",
    "    return 4*M/N\n",
    "calc_pi(10**5)"
   ]
  },
  {
   "cell_type": "markdown",
   "metadata": {},
   "source": [
    "# 1. Vectorization\n",
    "\n",
    "the easiest way to speed up the calculations is by vectorization: instead of using a for loop, we use vectors, and in this way we can carry out the calculations at each vector entry (here  - sample) at the same time."
   ]
  },
  {
   "cell_type": "code",
   "execution_count": 3,
   "metadata": {},
   "outputs": [
    {
     "data": {
      "text/plain": [
       "3.13344"
      ]
     },
     "execution_count": 3,
     "metadata": {},
     "output_type": "execute_result"
    }
   ],
   "source": [
    "import numpy as np\n",
    "\n",
    "def calc_pi_np(N):\n",
    "    pts = np.random.uniform(-1, 1, (2, N))\n",
    "    M = np.count_nonzero((pts ** 2).sum(axis=0) < 1.0)\n",
    "    return 4 * M / N\n",
    "    \n",
    "calc_pi_np(10**5)"
   ]
  },
  {
   "cell_type": "markdown",
   "metadata": {},
   "source": [
    "#### Comparison:\n",
    "An easy way to time your code is to use '%timeit' magic from jupyter notebook."
   ]
  },
  {
   "cell_type": "code",
   "execution_count": 4,
   "metadata": {},
   "outputs": [
    {
     "name": "stdout",
     "output_type": "stream",
     "text": [
      "13.2 s ± 0 ns per loop (mean ± std. dev. of 1 run, 1 loop each)\n",
      "315 ms ± 0 ns per loop (mean ± std. dev. of 1 run, 1 loop each)\n"
     ]
    }
   ],
   "source": [
    "%timeit -r 1 calc_pi(10**7)\n",
    "%timeit -r 1 calc_pi_np(10**7)"
   ]
  },
  {
   "cell_type": "markdown",
   "metadata": {},
   "source": [
    "However, the disadvantage of vectorization is that we need to store the whole vector in memory. We can see the difference by running the memory profiler:"
   ]
  },
  {
   "cell_type": "code",
   "execution_count": 6,
   "metadata": {
    "scrolled": true
   },
   "outputs": [
    {
     "data": {
      "image/png": "[encoded data removed]",
      "text/plain": [
       "<Figure size 432x288 with 1 Axes>"
      ]
     },
     "metadata": {
      "needs_background": "light"
     },
     "output_type": "display_data"
    }
   ],
   "source": [
    "from memory_profiler import memory_usage\n",
    "import matplotlib.pyplot as plt\n",
    "\n",
    "memory_numpy = memory_usage(lambda: calc_pi_np(10**6), interval=0.0)\n",
    "memory_python = memory_usage(lambda: calc_pi(10**6), interval=0.05)\n",
    "\n",
    "plt.semilogy(memory_numpy, label='numpy')\n",
    "plt.semilogy(memory_python, label='python')\n",
    "plt.xlabel('Time step')\n",
    "plt.ylabel('Memory / MB')\n",
    "plt.legend()\n",
    "plt.show()"
   ]
  },
  {
   "cell_type": "markdown",
   "metadata": {},
   "source": [
    "# 2. Paralel numpy with Dask\n",
    "\n",
    "Numpy can be sped up with dask, whcih constructs computational graph, and distributes the calculations"
   ]
  },
  {
   "cell_type": "code",
   "execution_count": 8,
   "metadata": {},
   "outputs": [
    {
     "data": {
      "text/plain": [
       "3.13976"
      ]
     },
     "execution_count": 8,
     "metadata": {},
     "output_type": "execute_result"
    }
   ],
   "source": [
    "import dask.array as da\n",
    "\n",
    "def calc_pi_da(N):\n",
    "    pts = da.random.uniform(-1, 1, (2, N))\n",
    "    M = da.count_nonzero((pts ** 2).sum(axis=0) < 1.0)\n",
    "    return (4 * M / N).compute()     # to execute the calculations over the graph,\n",
    "                                     #you need to use .compute() at the end\n",
    "    \n",
    "calc_pi_da(100000)"
   ]
  },
  {
   "cell_type": "code",
   "execution_count": null,
   "metadata": {},
   "outputs": [],
   "source": [
    "%timeit -r 1 calc_pi(10**7)\n",
    "%timeit -r 1 calc_pi_np(10**7)\n",
    "%timeit -r 1 calc_pi_da(10**7)"
   ]
  },
  {
   "cell_type": "code",
   "execution_count": null,
   "metadata": {},
   "outputs": [],
   "source": [
    "def pi_dask_mem():\n",
    "     calc_pi_da(10**7)\n",
    "\n",
    "def pi_numpy_mem():\n",
    "     calc_pi_np(10**7)\n",
    "\n",
    "\n",
    "        \n",
    "memory_numpy = memory_usage(pi_numpy_mem, interval = 0.01) \n",
    "memory_dask = memory_usage(pi_dask_mem, interval = 0.01) \n",
    "\n",
    "plt.plot(memory_numpy, label = 'numpy')\n",
    "plt.plot(memory_dask, label = 'dask')\n",
    "\n",
    "plt.xlabel('Time step')\n",
    "plt.ylabel('Memory / MB')\n",
    "plt.legend()\n",
    "plt.show()"
   ]
  },
  {
   "cell_type": "markdown",
   "metadata": {},
   "source": [
    "# 3. Numba\n",
    "\n",
    "An alternative way to speed-up calculations is by using Numba, which optimizes the code at the compilation level. Works best for pure python. Example"
   ]
  },
  {
   "cell_type": "code",
   "execution_count": null,
   "metadata": {},
   "outputs": [],
   "source": [
    "import numba\n",
    "\n",
    "@numba.jit             #simply add this line to change to numba\n",
    "def sum_range_numba(a):\n",
    "    x = 0\n",
    "    for i in range(a):\n",
    "        x += i\n",
    "    return x\n",
    "\n",
    "%timeit sum(range(10**8))\n",
    "%timeit sum_range_numba(10**8)"
   ]
  },
  {
   "cell_type": "code",
   "execution_count": null,
   "metadata": {},
   "outputs": [],
   "source": [
    "@numba.jit\n",
    "def calc_pi_numba(N):\n",
    "    \"\"\"Computes the value of pi using N random samples.\"\"\"\n",
    "    M = 0\n",
    "    for i in range(N):\n",
    "        # take a sample\n",
    "        x = random.uniform(-1, 1)\n",
    "        y = random.uniform(-1, 1)\n",
    "        \n",
    "        if x**2 + y**2 < 1.0:\n",
    "            M += 1\n",
    "            \n",
    "    return 4 * M/N\n",
    "    \n",
    "%timeit calc_pi_numba(10**7)"
   ]
  },
  {
   "cell_type": "code",
   "execution_count": null,
   "metadata": {},
   "outputs": [],
   "source": [
    "%timeit -r 1 calc_pi(10**7)\n",
    "%timeit -r 1 calc_pi_np(10**7)\n",
    "%timeit -r 1 calc_pi_da(10**7)"
   ]
  },
  {
   "cell_type": "markdown",
   "metadata": {},
   "source": [
    "so in this case, pure numba-recompiled code beats parelelization ad vectorization. This is because the former two methods require additional time whcih results in overhead, which can kill speed-ups in case of smaller jobs."
   ]
  },
  {
   "cell_type": "markdown",
   "metadata": {},
   "source": [
    "# 4. Multi-threading"
   ]
  },
  {
   "cell_type": "code",
   "execution_count": null,
   "metadata": {},
   "outputs": [],
   "source": [
    "import queue\n",
    "import threading\n",
    "\n",
    "# Number of times to execute calc_pi_numba\n",
    "ncalc = 10\n",
    "# Number of threads to launch\n",
    "ncpus = 4\n",
    "# Input values\n",
    "input_range = [10**6] * ncalc\n",
    "\n",
    "# We need to define a worker function that fetches jobs from the queue.\n",
    "def worker(q):\n",
    "    while True:\n",
    "        try:\n",
    "            x = q.get(block=False)\n",
    "            print(calc_pi_numba(x), end=' ', flush=True)\n",
    "        except queue.Empty:\n",
    "            break\n",
    "            \n",
    "# Create the queue, and fill it with input values\n",
    "work_queue = queue.Queue()\n",
    "for n_samples in input_range:\n",
    "    work_queue.put(n_samples)\n",
    "    \n",
    "# Create a number of threads\n",
    "threads = [threading.Thread(target=worker, args=(work_queue, )) for i in range(ncpus)]\n"
   ]
  },
  {
   "cell_type": "code",
   "execution_count": null,
   "metadata": {},
   "outputs": [],
   "source": [
    "%%time\n",
    "\n",
    "# Start the threads\n",
    "for t in threads:\n",
    "    t.start()\n",
    "    \n",
    "# Wait until all of them are done\n",
    "for t in threads:\n",
    "    t.join()\n",
    "    \n",
    "print()"
   ]
  },
  {
   "cell_type": "markdown",
   "metadata": {},
   "source": [
    "but, there is not much speed-up because of GIL (Global interpreter locks) \n",
    "so effectively, python functions wait for each other to complete their. \n",
    "\n",
    "This could be circumvented with multiprocessing, which basically uses several python interpreters in parallel. However, then the functions cannot share memory.\n",
    "\n",
    "Alternatively, GIL can be circumvented with numba"
   ]
  },
  {
   "cell_type": "code",
   "execution_count": null,
   "metadata": {},
   "outputs": [],
   "source": [
    "@numba.jit(nogil=True, nopython=True)\n",
    "def calc_pi_numba_nogil(N):\n",
    "    \"\"\"Computes the value of pi using N random samples.\"\"\"\n",
    "    M = 0\n",
    "    for i in range(N):\n",
    "        # take a sample\n",
    "        x = random.uniform(-1, 1)\n",
    "        y = random.uniform(-1, 1)\n",
    "        \n",
    "        if x**2 + y**2 < 1.0:\n",
    "            M += 1\n",
    "            \n",
    "    return 4 * M/N\n",
    "    \n",
    "%timeit calc_pi_numba(10**7)"
   ]
  },
  {
   "cell_type": "markdown",
   "metadata": {},
   "source": [
    "# Part 2: Parallel design patterns with Dask\n",
    "\n"
   ]
  },
  {
   "cell_type": "markdown",
   "metadata": {},
   "source": [
    "To implement parallel data-processing design with dask, usually we use '**bag**' to store data as python collections and is cucial for parallel processing (functions such as map, groupby etc.)\n",
    "\n",
    "https://docs.dask.org/en/latest/bag.html"
   ]
  },
  {
   "cell_type": "code",
   "execution_count": null,
   "metadata": {},
   "outputs": [],
   "source": [
    "import dask.bag as db\n",
    "bag = db.from_sequence(['good', 'morning'])\n",
    "bag"
   ]
  },
  {
   "cell_type": "markdown",
   "metadata": {},
   "source": [
    "## 1. Map\n",
    "now we can define a function, which can be applied on an element of the bag, using 'map'\n"
   ]
  },
  {
   "cell_type": "code",
   "execution_count": null,
   "metadata": {},
   "outputs": [],
   "source": [
    "def shout(word):\n",
    "    return word + '!'\n",
    "\n",
    "#to apply the function on each element, we use map() function\n",
    "# you can visualize the computational graph as follows:\n",
    "bag.map(shout).visualize()\n"
   ]
  },
  {
   "cell_type": "code",
   "execution_count": null,
   "metadata": {},
   "outputs": [],
   "source": [
    "bag.map(shout).compute()"
   ]
  },
  {
   "cell_type": "markdown",
   "metadata": {},
   "source": [
    "## 2.  Filter\n",
    "in a similar way, we can apply custom filtering, where the filtering condition is specified by our function:"
   ]
  },
  {
   "cell_type": "code",
   "execution_count": null,
   "metadata": {},
   "outputs": [],
   "source": [
    "def contains_d(word):\n",
    "    return 'd' in word\n",
    "\n",
    "contains_d('good')\n",
    "\n",
    "bag.filter(contains_d).compute()"
   ]
  },
  {
   "cell_type": "markdown",
   "metadata": {},
   "source": [
    "## 3. Sum\n",
    "example: summing numbers"
   ]
  },
  {
   "cell_type": "code",
   "execution_count": null,
   "metadata": {},
   "outputs": [],
   "source": [
    "bag = db.from_sequence(range(10))\n",
    "bag.reduction(sum, sum).visualize()\n"
   ]
  },
  {
   "cell_type": "code",
   "execution_count": null,
   "metadata": {},
   "outputs": [],
   "source": [
    "bag.reduction(sum, sum).compute()\n"
   ]
  },
  {
   "cell_type": "markdown",
   "metadata": {},
   "source": [
    "## 4. Groupby"
   ]
  },
  {
   "cell_type": "code",
   "execution_count": null,
   "metadata": {},
   "outputs": [],
   "source": [
    "def is_even(x):\n",
    "    return x % 2 == 0\n",
    "    \n",
    "bag.map(is_even).compute()\n",
    "bag.groupby(is_even).compute()"
   ]
  },
  {
   "cell_type": "markdown",
   "metadata": {},
   "source": [
    "# Example workflow:\n",
    "Counting words in a list of texts"
   ]
  },
  {
   "cell_type": "code",
   "execution_count": null,
   "metadata": {},
   "outputs": [],
   "source": [
    "from nltk.stem.snowball import PorterStemmer\n",
    "\n",
    "stemmer = PorterStemmer()\n",
    "#Stemmer: finds stem of a word, ex:\n",
    "#stemmer.stem('dancing') #-> 'danc'\n",
    "#stemmer.stem('danced')\n",
    "\n",
    "def good_word(w):\n",
    "    return len(w) > 0 and not any(i.isdigit() for i in w)\n",
    "    \n",
    "def clean_word(w):\n",
    "    return w.strip(\"*!?.:;'\\\",“’‘”()_\").lower()\n",
    "    \n",
    "text = 'All work and no play makes jack a dull boy'\n",
    "words = set()"
   ]
  },
  {
   "cell_type": "code",
   "execution_count": null,
   "metadata": {},
   "outputs": [],
   "source": [
    "import requests\n",
    "def load_url(url):\n",
    "    response = requests.get(url)\n",
    "    return response.text"
   ]
  },
  {
   "cell_type": "code",
   "execution_count": null,
   "metadata": {},
   "outputs": [],
   "source": [
    "# a list of texts\n",
    "urls = [\n",
    " 'https://www.gutenberg.org/files/764/764-0.txt',\n",
    " 'https://www.gutenberg.org/files/15/15-0.txt', \n",
    " 'https://www.gutenberg.org/files/1661/1661-0.txt',\n",
    " 'https://www.gutenberg.org/files/84/84-0.txt',\n",
    " 'https://www.gutenberg.org/files/345/345-0.txt',\n",
    " 'https://www.gutenberg.org/files/768/768-0.txt',\n",
    " 'https://www.gutenberg.org/files/1342/1342-0.txt',\n",
    " 'https://www.gutenberg.org/files/11/11-0.txt',\n",
    " 'https://www.gutenberg.org/files/61262/61262-0.txt'\n",
    "]\n",
    "\n"
   ]
  },
  {
   "cell_type": "code",
   "execution_count": null,
   "metadata": {},
   "outputs": [],
   "source": [
    "bag = db.from_sequence(urls)\n"
   ]
  },
  {
   "cell_type": "code",
   "execution_count": null,
   "metadata": {},
   "outputs": [],
   "source": [
    "computation = bag.map(load_url)\\\n",
    "                 .str.split()\\\n",
    "                 .flatten()\\\n",
    "                 .map(clean_word)\\\n",
    "                 .filter(good_word)\\\n",
    "                 .map(stemmer.stem)\\\n",
    "                 .distinct()\\\n",
    "                 .count()\n",
    "computation.visualize()"
   ]
  },
  {
   "cell_type": "code",
   "execution_count": null,
   "metadata": {},
   "outputs": [],
   "source": [
    "count = computation.compute()\n",
    "print(f'These texts contain {count} unique words')"
   ]
  },
  {
   "cell_type": "code",
   "execution_count": null,
   "metadata": {},
   "outputs": [],
   "source": []
  }
 ],
 "metadata": {
  "kernelspec": {
   "display_name": "Python 3",
   "language": "python",
   "name": "python3"
  },
  "language_info": {
   "codemirror_mode": {
    "name": "ipython",
    "version": 3
   },
   "file_extension": ".py",
   "mimetype": "text/x-python",
   "name": "python",
   "nbconvert_exporter": "python",
   "pygments_lexer": "ipython3",
   "version": "3.7.9"
  }
 },
 "nbformat": 4,
 "nbformat_minor": 5
}
